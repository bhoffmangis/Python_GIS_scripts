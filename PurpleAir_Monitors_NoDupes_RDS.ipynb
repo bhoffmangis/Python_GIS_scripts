{
 "cells": [
  {
   "cell_type": "markdown",
   "id": "dd41ca95",
   "metadata": {},
   "source": [
    "#### Import pandas, numpy, and pyreadr (the latter for .rds files)"
   ]
  },
  {
   "cell_type": "code",
   "execution_count": 1,
   "id": "a0585a5e",
   "metadata": {},
   "outputs": [],
   "source": [
    "import pandas as pd"
   ]
  },
  {
   "cell_type": "code",
   "execution_count": 2,
   "id": "9c032f03",
   "metadata": {},
   "outputs": [],
   "source": [
    "import numpy as np"
   ]
  },
  {
   "cell_type": "code",
   "execution_count": 3,
   "id": "ebd1f9e1",
   "metadata": {},
   "outputs": [],
   "source": [
    "import pyreadr"
   ]
  },
  {
   "cell_type": "markdown",
   "id": "6bd608b4",
   "metadata": {},
   "source": [
    "#### Set source RDS to dataframe"
   ]
  },
  {
   "cell_type": "code",
   "execution_count": 4,
   "id": "c55c0586",
   "metadata": {
    "scrolled": true
   },
   "outputs": [],
   "source": [
    "data = pyreadr.read_r(r'C:\\0_DATA\\0_GIS\\AirQuality\\00_SOURCE\\dat_pa_pm25.rds')"
   ]
  },
  {
   "cell_type": "markdown",
   "id": "04a1b021",
   "metadata": {},
   "source": [
    "#### Remove ordered dictionary and set source RDS to new dataframe"
   ]
  },
  {
   "cell_type": "markdown",
   "id": "527dfb5b",
   "metadata": {},
   "source": [
    "##### * Without the below line, pandas was returning an ordered dictionary that was giving me trouble when attempting to run subsequent functions.  Some searching yielded this line which allows for outputting a cleaner dataframe (thus allowing for standard pandas dataframe functions to be used)."
   ]
  },
  {
   "cell_type": "code",
   "execution_count": 5,
   "id": "baf25e89",
   "metadata": {},
   "outputs": [],
   "source": [
    "df = data[None]"
   ]
  },
  {
   "cell_type": "markdown",
   "id": "9e727f4d",
   "metadata": {},
   "source": [
    "#### Print dataframe to view contents"
   ]
  },
  {
   "cell_type": "code",
   "execution_count": 6,
   "id": "4bb25d50",
   "metadata": {},
   "outputs": [
    {
     "name": "stdout",
     "output_type": "stream",
     "text": [
      "               id           date_time    year  month  day  hour         lon  \\\n",
      "0           100.0 2016-05-05 03:00:00  2016.0    5.0  5.0   3.0 -121.881880   \n",
      "1           100.0 2016-05-05 04:00:00  2016.0    5.0  5.0   4.0 -121.881880   \n",
      "2           100.0 2016-05-05 08:00:00  2016.0    5.0  5.0   8.0 -121.881880   \n",
      "3           100.0 2016-05-05 09:00:00  2016.0    5.0  5.0   9.0 -121.881880   \n",
      "4           100.0 2016-05-05 10:00:00  2016.0    5.0  5.0  10.0 -121.881880   \n",
      "...           ...                 ...     ...    ...  ...   ...         ...   \n",
      "21585709  72559.0 2020-11-01 03:00:00  2020.0   11.0  1.0   3.0 -118.142309   \n",
      "21585710  72559.0 2020-11-01 04:00:00  2020.0   11.0  1.0   4.0 -118.142309   \n",
      "21585711  72559.0 2020-11-01 05:00:00  2020.0   11.0  1.0   5.0 -118.142309   \n",
      "21585712  72559.0 2020-11-01 06:00:00  2020.0   11.0  1.0   6.0 -118.142309   \n",
      "21585713  72559.0 2020-11-01 07:00:00  2020.0   11.0  1.0   7.0 -118.142309   \n",
      "\n",
      "                lat        pm25  \n",
      "0         37.274200    4.398000  \n",
      "1         37.274200  108.609833  \n",
      "2         37.274200    1.814167  \n",
      "3         37.274200    1.542833  \n",
      "4         37.274200    1.588333  \n",
      "...             ...         ...  \n",
      "21585709  34.205976    2.816333  \n",
      "21585710  34.205976    3.641333  \n",
      "21585711  34.205976   10.979500  \n",
      "21585712  34.205976    9.396167  \n",
      "21585713  34.205976    2.489500  \n",
      "\n",
      "[21585714 rows x 9 columns]\n"
     ]
    }
   ],
   "source": [
    "print(df)"
   ]
  },
  {
   "cell_type": "markdown",
   "id": "23e9fba0",
   "metadata": {},
   "source": [
    "#### Drop unnecessary columns and set to a new dataframe"
   ]
  },
  {
   "cell_type": "code",
   "execution_count": 7,
   "id": "980585f6",
   "metadata": {},
   "outputs": [],
   "source": [
    "df_ID_lon_lat = df.drop(columns=[\"date_time\", \"year\", \"month\", \"day\", \"hour\", \"pm25\"])"
   ]
  },
  {
   "cell_type": "code",
   "execution_count": 8,
   "id": "490740fc",
   "metadata": {},
   "outputs": [
    {
     "name": "stdout",
     "output_type": "stream",
     "text": [
      "               id         lon        lat\n",
      "0           100.0 -121.881880  37.274200\n",
      "1           100.0 -121.881880  37.274200\n",
      "2           100.0 -121.881880  37.274200\n",
      "3           100.0 -121.881880  37.274200\n",
      "4           100.0 -121.881880  37.274200\n",
      "...           ...         ...        ...\n",
      "21585709  72559.0 -118.142309  34.205976\n",
      "21585710  72559.0 -118.142309  34.205976\n",
      "21585711  72559.0 -118.142309  34.205976\n",
      "21585712  72559.0 -118.142309  34.205976\n",
      "21585713  72559.0 -118.142309  34.205976\n",
      "\n",
      "[21585714 rows x 3 columns]\n"
     ]
    }
   ],
   "source": [
    "print(df_ID_lon_lat)"
   ]
  },
  {
   "cell_type": "markdown",
   "id": "e937b8e6",
   "metadata": {},
   "source": [
    "#### Identify unique ID values"
   ]
  },
  {
   "cell_type": "code",
   "execution_count": 9,
   "id": "89d0edf8",
   "metadata": {
    "scrolled": true
   },
   "outputs": [
    {
     "data": {
      "text/plain": [
       "array([  100.,   195.,   354., ..., 72251., 72281., 72559.])"
      ]
     },
     "execution_count": 9,
     "metadata": {},
     "output_type": "execute_result"
    }
   ],
   "source": [
    "df_ID_lon_lat.id.unique()"
   ]
  },
  {
   "cell_type": "markdown",
   "id": "3d8539ab",
   "metadata": {},
   "source": [
    "#### Get count of unique ID values"
   ]
  },
  {
   "cell_type": "code",
   "execution_count": 10,
   "id": "dee85c01",
   "metadata": {},
   "outputs": [
    {
     "data": {
      "text/plain": [
       "5162"
      ]
     },
     "execution_count": 10,
     "metadata": {},
     "output_type": "execute_result"
    }
   ],
   "source": [
    "len(df_ID_lon_lat.id.unique())"
   ]
  },
  {
   "cell_type": "code",
   "execution_count": 11,
   "id": "22df128b",
   "metadata": {},
   "outputs": [
    {
     "name": "stdout",
     "output_type": "stream",
     "text": [
      "               id         lon        lat\n",
      "0           100.0 -121.881880  37.274200\n",
      "1           100.0 -121.881880  37.274200\n",
      "2           100.0 -121.881880  37.274200\n",
      "3           100.0 -121.881880  37.274200\n",
      "4           100.0 -121.881880  37.274200\n",
      "...           ...         ...        ...\n",
      "21585709  72559.0 -118.142309  34.205976\n",
      "21585710  72559.0 -118.142309  34.205976\n",
      "21585711  72559.0 -118.142309  34.205976\n",
      "21585712  72559.0 -118.142309  34.205976\n",
      "21585713  72559.0 -118.142309  34.205976\n",
      "\n",
      "[21585714 rows x 3 columns]\n"
     ]
    }
   ],
   "source": [
    "print(df_ID_lon_lat)"
   ]
  },
  {
   "cell_type": "markdown",
   "id": "c024ab68",
   "metadata": {},
   "source": [
    "#### Drop duplicate ID records"
   ]
  },
  {
   "cell_type": "code",
   "execution_count": 12,
   "id": "a74887b2",
   "metadata": {},
   "outputs": [],
   "source": [
    "df_ID_lon_lat_NoDupes = df_ID_lon_lat.drop_duplicates(subset = ['id'])"
   ]
  },
  {
   "cell_type": "markdown",
   "id": "c27cc4e4",
   "metadata": {},
   "source": [
    "#### Print dataframe to verify row/column count"
   ]
  },
  {
   "cell_type": "code",
   "execution_count": 13,
   "id": "95ea31e2",
   "metadata": {},
   "outputs": [
    {
     "name": "stdout",
     "output_type": "stream",
     "text": [
      "               id         lon        lat\n",
      "0           100.0 -121.881880  37.274200\n",
      "30517       195.0 -124.128893  41.059725\n",
      "65356       354.0 -111.847381  40.581240\n",
      "87303       459.0 -111.891498  40.474567\n",
      "115689      473.0 -119.701662  36.724515\n",
      "...           ...         ...        ...\n",
      "21581580  71631.0  -70.977142  42.468255\n",
      "21582482  72249.0 -118.294998  34.114577\n",
      "21583212  72251.0 -120.566941  39.721347\n",
      "21584074  72281.0 -119.319600  46.177709\n",
      "21584891  72559.0 -118.142309  34.205976\n",
      "\n",
      "[5162 rows x 3 columns]\n"
     ]
    }
   ],
   "source": [
    "print(df_ID_lon_lat_NoDupes)"
   ]
  },
  {
   "cell_type": "markdown",
   "id": "a185bce5",
   "metadata": {},
   "source": [
    "#### Export dataframe to a new CSV"
   ]
  },
  {
   "cell_type": "code",
   "execution_count": 14,
   "id": "ce9487b1",
   "metadata": {},
   "outputs": [],
   "source": [
    "df_ID_lon_lat_NoDupes.to_csv(r'dat_pa_pm25_NoDupes.csv')"
   ]
  },
  {
   "cell_type": "code",
   "execution_count": null,
   "id": "2fea170a",
   "metadata": {},
   "outputs": [],
   "source": []
  }
 ],
 "metadata": {
  "kernelspec": {
   "display_name": "Python 3 (ipykernel)",
   "language": "python",
   "name": "python3"
  },
  "language_info": {
   "codemirror_mode": {
    "name": "ipython",
    "version": 3
   },
   "file_extension": ".py",
   "mimetype": "text/x-python",
   "name": "python",
   "nbconvert_exporter": "python",
   "pygments_lexer": "ipython3",
   "version": "3.9.7"
  }
 },
 "nbformat": 4,
 "nbformat_minor": 5
}
